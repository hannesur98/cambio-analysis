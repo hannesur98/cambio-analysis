{
 "cells": [
  {
   "cell_type": "markdown",
   "id": "47f10fc7",
   "metadata": {},
   "source": [
    "# CAMBIO\n",
    "Explore creating phenopackts from CAMBIO data (prototype, not for final analysis!)"
   ]
  },
  {
   "cell_type": "code",
   "execution_count": 1,
   "id": "ccb3ea62",
   "metadata": {},
   "outputs": [
    {
     "ename": "ImportError",
     "evalue": "cannot import name 'Cambio2Phenopacket' from 'cambio' (/Users/robin/GIT/cambio-analysis/src/cambio/__init__.py)",
     "output_type": "error",
     "traceback": [
      "\u001b[31m---------------------------------------------------------------------------\u001b[39m",
      "\u001b[31mImportError\u001b[39m                               Traceback (most recent call last)",
      "\u001b[36mCell\u001b[39m\u001b[36m \u001b[39m\u001b[32mIn[1]\u001b[39m\u001b[32m, line 1\u001b[39m\n\u001b[32m----> \u001b[39m\u001b[32m1\u001b[39m \u001b[38;5;28;01mfrom\u001b[39;00m\u001b[38;5;250m \u001b[39m\u001b[34;01mcambio\u001b[39;00m\u001b[38;5;250m \u001b[39m\u001b[38;5;28;01mimport\u001b[39;00m Cambio, Cambio2Phenopacket\n\u001b[32m      2\u001b[39m \u001b[38;5;28;01mfrom\u001b[39;00m\u001b[38;5;250m \u001b[39m\u001b[34;01mpathlib\u001b[39;00m\u001b[38;5;250m \u001b[39m\u001b[38;5;28;01mimport\u001b[39;00m Path\n",
      "\u001b[31mImportError\u001b[39m: cannot import name 'Cambio2Phenopacket' from 'cambio' (/Users/robin/GIT/cambio-analysis/src/cambio/__init__.py)"
     ]
    }
   ],
   "source": [
    "from cambio import Cambio, Cambio2Phenopacket\n",
    "from pathlib import Path"
   ]
  },
  {
   "cell_type": "code",
   "execution_count": null,
   "id": "1b986ad0",
   "metadata": {},
   "outputs": [],
   "source": [
    "input_file = \"../../../Desktop/HPOstuff/2025_07_24_CAMBio_Tabelle.txt\"\n",
    "# \"../../../Documents/manuscripts/AMD/2025_07_24_CAMBio_Tabelle_für_Hannes_Urbat.txt\"\n",
    "input_path = Path(input_file).resolve()\n",
    "cambio = Cambio(cambio_path=input_path)"
   ]
  },
  {
   "cell_type": "code",
   "execution_count": null,
   "id": "4772b5f5",
   "metadata": {},
   "outputs": [],
   "source": [
    "cambio2ppkt = Cambio2Phenopacket(df=cambio.get_df())"
   ]
  },
  {
   "cell_type": "code",
   "execution_count": null,
   "id": "20e54b1d",
   "metadata": {},
   "outputs": [],
   "source": [
    "ppkt_d = cambio2ppkt.get_ppkt_d()\n",
    "print(f\"Got {len(ppkt_d)} phenopackets\")"
   ]
  },
  {
   "cell_type": "code",
   "execution_count": null,
   "id": "6b952fcd",
   "metadata": {},
   "outputs": [],
   "source": [
    "from google.protobuf.json_format import MessageToJson\n",
    "import phenopackets as PPKt\n",
    "\n",
    "def output_ppkt(ppkt: PPKt.Phenopacket):\n",
    "    json_string = MessageToJson(ppkt)\n",
    "    print(json_string)\n"
   ]
  },
  {
   "cell_type": "code",
   "execution_count": null,
   "id": "50997085",
   "metadata": {},
   "outputs": [],
   "source": [
    "cambio2ppkt.add_demographic_data()\n",
    "cambio2ppkt.add_hpo_columns()"
   ]
  },
  {
   "cell_type": "code",
   "execution_count": null,
   "id": "ef5bca84",
   "metadata": {},
   "outputs": [],
   "source": [
    "for k, v in ppkt_d.items():\n",
    "    #print(f\"k={k} v={v}\")\n",
    "    output_ppkt(v)"
   ]
  }
 ],
 "metadata": {
  "kernelspec": {
   "display_name": "venv",
   "language": "python",
   "name": "python3"
  },
  "language_info": {
   "codemirror_mode": {
    "name": "ipython",
    "version": 3
   },
   "file_extension": ".py",
   "mimetype": "text/x-python",
   "name": "python",
   "nbconvert_exporter": "python",
   "pygments_lexer": "ipython3",
   "version": "3.13.2"
  }
 },
 "nbformat": 4,
 "nbformat_minor": 5
}
